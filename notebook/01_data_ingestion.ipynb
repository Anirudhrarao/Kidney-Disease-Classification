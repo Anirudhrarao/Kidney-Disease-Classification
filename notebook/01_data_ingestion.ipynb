{
 "cells": [
  {
   "cell_type": "code",
   "execution_count": 1,
   "metadata": {},
   "outputs": [],
   "source": [
    "import os"
   ]
  },
  {
   "cell_type": "code",
   "execution_count": 2,
   "metadata": {},
   "outputs": [
    {
     "data": {
      "text/plain": [
       "'c:\\\\Users\\\\DELL\\\\OneDrive\\\\Desktop\\\\Kidney-Disease-Classification\\\\notebook'"
      ]
     },
     "execution_count": 2,
     "metadata": {},
     "output_type": "execute_result"
    }
   ],
   "source": [
    "%pwd"
   ]
  },
  {
   "cell_type": "code",
   "execution_count": 3,
   "metadata": {},
   "outputs": [],
   "source": [
    "os.chdir(\"../\")"
   ]
  },
  {
   "cell_type": "code",
   "execution_count": 4,
   "metadata": {},
   "outputs": [
    {
     "data": {
      "text/plain": [
       "'c:\\\\Users\\\\DELL\\\\OneDrive\\\\Desktop\\\\Kidney-Disease-Classification'"
      ]
     },
     "execution_count": 4,
     "metadata": {},
     "output_type": "execute_result"
    }
   ],
   "source": [
    "%pwd"
   ]
  },
  {
   "cell_type": "code",
   "execution_count": 5,
   "metadata": {},
   "outputs": [],
   "source": [
    "from dataclasses import dataclass\n",
    "from pathlib import Path\n",
    "\n",
    "@dataclass(frozen=True)\n",
    "class DataIngestionConfig:\n",
    "    \"\"\"\n",
    "    Configuration for data ingestion.\n",
    "\n",
    "    Attributes:\n",
    "        root_dir (Path): The root directory for data ingestion.\n",
    "        source_dir (str): The source directory or URL for data retrieval.\n",
    "        local_data_file (Path): The local file path for downloaded data.\n",
    "        unzip_dir (Path): The directory where data will be extracted or stored after ingestion.\n",
    "    \"\"\"\n",
    "    root_dir: Path\n",
    "    source_dir: str\n",
    "    local_data_file: Path\n",
    "    unzip_dir: Path"
   ]
  },
  {
   "cell_type": "code",
   "execution_count": 6,
   "metadata": {},
   "outputs": [],
   "source": [
    "from cnnClassifier.constants import *\n",
    "from cnnClassifier.utils.common import  *"
   ]
  },
  {
   "cell_type": "code",
   "execution_count": 7,
   "metadata": {},
   "outputs": [],
   "source": [
    "from pathlib import Path\n",
    "\n",
    "class ConfigurationManager:\n",
    "    def __init__(self, \n",
    "                config_filepath: Path = None, \n",
    "                params_filepath: Path = None):\n",
    "        \"\"\"\n",
    "        Initialize the ConfigurationManager.\n",
    "\n",
    "        Args:\n",
    "            config_filepath (Path, optional): The path to the configuration file.\n",
    "            params_filepath (Path, optional): The path to the parameters file.\n",
    "        \"\"\"\n",
    "        if config_filepath is None:\n",
    "            config_filepath = CONFIG_FILE_PATH\n",
    "\n",
    "        if params_filepath is None:\n",
    "            params_filepath = PARAMS_FILE_PATH\n",
    "\n",
    "        self.config = read_yaml(config_filepath)\n",
    "        self.params = read_yaml(params_filepath)\n",
    "\n",
    "        # Create directories if needed\n",
    "        create_directories([self.config.artifact_root])\n",
    "\n",
    "    def get_data_ingestion_config(self) -> DataIngestionConfig:\n",
    "        \"\"\"\n",
    "        Get the data ingestion configuration.\n",
    "\n",
    "        Returns:\n",
    "            DataIngestionConfig: The data ingestion configuration.\n",
    "        \"\"\"\n",
    "        config = self.config.data_ingestion\n",
    "\n",
    "        # Create directories if needed\n",
    "        create_directories([config.root_dir])\n",
    "\n",
    "        data_ingestion_config = DataIngestionConfig(\n",
    "            root_dir=config.root_dir,\n",
    "            source_dir=config.source_url,\n",
    "            local_data_file=config.local_data_file,\n",
    "            unzip_dir=config.unzip_dir\n",
    "        )\n",
    "\n",
    "        return data_ingestion_config\n"
   ]
  },
  {
   "cell_type": "code",
   "execution_count": 8,
   "metadata": {},
   "outputs": [],
   "source": [
    "import os\n",
    "import zipfile\n",
    "import gdown\n",
    "from cnnClassifier import configure_logger\n",
    "from cnnClassifier.utils.common import get_size"
   ]
  },
  {
   "cell_type": "code",
   "execution_count": 9,
   "metadata": {},
   "outputs": [],
   "source": [
    "class DataIngestion:\n",
    "    def __init__(self, config: DataIngestionConfig):\n",
    "        \"\"\"\n",
    "        Initialize the DataIngestion instance.\n",
    "\n",
    "        Args:\n",
    "            config (DataIngestionConfig): Configuration for data ingestion.\n",
    "        \"\"\"\n",
    "        self.config = config\n",
    "        self.logger = configure_logger(\"logs\", \"data_ingestion.log\")\n",
    "\n",
    "    def download_file(self) -> None:\n",
    "        \"\"\"\n",
    "        Download data from a URL and save it to the local file.\n",
    "\n",
    "        Raises:\n",
    "            Exception: If an error occurs during the download.\n",
    "        \"\"\"\n",
    "        try:\n",
    "            dataset_url = self.config.source_dir\n",
    "            zip_download_dir = self.config.local_data_file\n",
    "\n",
    "            os.makedirs('artifacts/data_ingestion', exist_ok=True)\n",
    "\n",
    "            self.logger.info(f\"Downloading data from {dataset_url} into file {zip_download_dir}\")\n",
    "\n",
    "            file_id = dataset_url.split(\"/\")[-2]\n",
    "            prefix = \"https://drive.google.com/uc?/export=download&id=\"\n",
    "            gdown.download(prefix + file_id, zip_download_dir)\n",
    "\n",
    "            self.logger.info(f\"Downloaded data from {dataset_url} into file {zip_download_dir}\")\n",
    "        except Exception as e:\n",
    "            self.logger.error(f\"Error during data download: {str(e)}\")\n",
    "            raise e\n",
    "\n",
    "    def extract_zip_file(self) -> None:\n",
    "        \"\"\"\n",
    "        Extract the contents of a ZIP file to a specified directory.\n",
    "\n",
    "        Raises:\n",
    "            Exception: If an error occurs during the extraction.\n",
    "        \"\"\"\n",
    "        unzip_path = self.config.unzip_dir\n",
    "        os.makedirs(unzip_path, exist_ok=True)\n",
    "\n",
    "        with zipfile.ZipFile(self.config.local_data_file, 'r') as zip_ref:\n",
    "            zip_ref.extractall(unzip_path)"
   ]
  },
  {
   "cell_type": "code",
   "execution_count": 10,
   "metadata": {},
   "outputs": [
    {
     "name": "stdout",
     "output_type": "stream",
     "text": [
      "[2023-10-15 17:55:28] [cnnClassifierLogger] [INFO]: [common.py]: YAML file 'config\\config.yaml' loaded successfully.\n",
      "[2023-10-15 17:55:28] [cnnClassifierLogger] [INFO]: [common.py]: YAML file 'params.yaml' loaded successfully.\n",
      "[2023-10-15 17:55:28] [cnnClassifierLogger] [INFO]: [common.py]: Created directory at: artifacts\n",
      "[2023-10-15 17:55:28] [cnnClassifierLogger] [INFO]: [common.py]: Created directory at: artifacts/data_ingestion\n",
      "[2023-10-15 17:55:28] [cnnClassifierLogger] [INFO]: [2869915300.py]: Downloading data from https://drive.google.com/file/d/1Cbowka-nMgOAQIL_N3NVWBpo4eioCf8O/view?usp=sharing into file artifacts/data_ingestion/data.7z\n",
      "[2023-10-15 17:55:28] [cnnClassifierLogger] [INFO]: [2869915300.py]: Downloading data from https://drive.google.com/file/d/1Cbowka-nMgOAQIL_N3NVWBpo4eioCf8O/view?usp=sharing into file artifacts/data_ingestion/data.7z\n"
     ]
    },
    {
     "name": "stderr",
     "output_type": "stream",
     "text": [
      "Downloading...\n",
      "From (uriginal): https://drive.google.com/uc?/export=download&id=1Cbowka-nMgOAQIL_N3NVWBpo4eioCf8O\n",
      "From (redirected): https://drive.google.com/uc?/export=download&id=1Cbowka-nMgOAQIL_N3NVWBpo4eioCf8O&confirm=t&uuid=c6481a3f-7cbc-4fa9-97e4-c7ada5d34cec\n",
      "To: c:\\Users\\DELL\\OneDrive\\Desktop\\Kidney-Disease-Classification\\artifacts\\data_ingestion\\data.7z\n",
      "100%|██████████| 940M/940M [06:40<00:00, 2.35MB/s] "
     ]
    },
    {
     "name": "stdout",
     "output_type": "stream",
     "text": [
      "[2023-10-15 18:02:12] [cnnClassifierLogger] [INFO]: [2869915300.py]: Downloaded data from https://drive.google.com/file/d/1Cbowka-nMgOAQIL_N3NVWBpo4eioCf8O/view?usp=sharing into file artifacts/data_ingestion/data.7z\n",
      "[2023-10-15 18:02:12] [cnnClassifierLogger] [INFO]: [2869915300.py]: Downloaded data from https://drive.google.com/file/d/1Cbowka-nMgOAQIL_N3NVWBpo4eioCf8O/view?usp=sharing into file artifacts/data_ingestion/data.7z\n"
     ]
    },
    {
     "name": "stderr",
     "output_type": "stream",
     "text": [
      "\n"
     ]
    }
   ],
   "source": [
    "try:\n",
    "    config = ConfigurationManager()\n",
    "    data_ingestion_config = config.get_data_ingestion_config()\n",
    "    data_ingestion = DataIngestion(config=data_ingestion_config)\n",
    "    data_ingestion.download_file()\n",
    "    data_ingestion.extract_zip_file()\n",
    "except Exception as e:\n",
    "    raise e"
   ]
  },
  {
   "cell_type": "code",
   "execution_count": null,
   "metadata": {},
   "outputs": [],
   "source": []
  }
 ],
 "metadata": {
  "kernelspec": {
   "display_name": "venv",
   "language": "python",
   "name": "python3"
  },
  "language_info": {
   "codemirror_mode": {
    "name": "ipython",
    "version": 3
   },
   "file_extension": ".py",
   "mimetype": "text/x-python",
   "name": "python",
   "nbconvert_exporter": "python",
   "pygments_lexer": "ipython3",
   "version": "3.8.18"
  }
 },
 "nbformat": 4,
 "nbformat_minor": 2
}
